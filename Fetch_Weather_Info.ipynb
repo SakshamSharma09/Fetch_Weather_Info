{
 "cells": [
  {
   "cell_type": "code",
   "execution_count": 12,
   "id": "alive-morgan",
   "metadata": {},
   "outputs": [
    {
     "name": "stdout",
     "output_type": "stream",
     "text": [
      "Enter your city nameMumbai\n",
      "***************************************************************\n",
      "Weather report for MUMBAI at 2021-06-23 10:02:20.971072 is: \n",
      "***************************************************************\n",
      "Description of Weather: smoke\n",
      "Temperature in Celsius: 31.99000000000001\n",
      "Humidity is: 70%\n",
      "Wind Speed is: 4.63\n",
      "Cloud Availability is: 75%\n",
      "\n"
     ]
    }
   ],
   "source": [
    "import requests \n",
    "\n",
    "from datetime import datetime\n",
    "\n",
    "current = datetime.now() \n",
    "\n",
    "api_key='bfc323db64c9224acdc8c1d72df4dd3d'\n",
    "\n",
    "location = input(\"Enter your city name\") \n",
    " \n",
    "api_link=\"http://api.openweathermap.org/data/2.5/weather?q=\"+str(location)+\"&appid=\"+api_key \n",
    "\n",
    "link = requests.get(api_link) \n",
    "data = link.json() \n",
    "\n",
    " \n",
    "temp_in_C = (data['main']['temp']-273.15)  \n",
    "\n",
    "descr = data['weather'][0]['description'] \n",
    "\n",
    "humid = data['main']['humidity'] \n",
    "\n",
    "wind_spd = data['wind']['speed'] \n",
    "\n",
    "cloud_per = data['clouds']['all'] \n",
    "\n",
    "print(\"***************************************************************\") \n",
    "\n",
    "print(\"Weather report for {} at {} is: \".format(location.upper(),current)) \n",
    "\n",
    "print(\"***************************************************************\") \n",
    "\n",
    "\n",
    "print(\"Description of Weather: \"+ descr)\n",
    "\n",
    "print(\"Temperature in Celsius: \"+str(temp_in_C)) \n",
    "\n",
    "print(\"Humidity is: \"+ str(humid)+\"%\") \n",
    "\n",
    "print(\"Wind Speed is: \"+ str(wind_spd)) \n",
    "\n",
    "print(\"Cloud Availability is: \"+str(cloud_per)+\"%\")\n",
    "\n",
    "print()\n",
    "\n",
    "weather_data = open(\"weather_info.txt\",\"a\")\n",
    "weather_data.write(\"\\nWeather report for {} at {} is: \".format(location.upper(),current)+\"\\n\")\n",
    "weather_data.write(\"Description of Weather: \"+ descr+\"\\n\")\n",
    "weather_data.write(\"Temperature in Celsius: \"+str(temp_in_C)+\"\\n\") \n",
    "weather_data.write(\"Humidity is: \"+ str(humid)+\"%\"+\"\\n\")\n",
    "weather_data.write(\"Wind Speed is: \"+ str(wind_spd)+\"\\n\") \n",
    "weather_data.write(\"Cloud Availability is: \"+str(cloud_per)+\"%\"+\"\\n\")\n",
    "weather_data.close()\n",
    "weather_data = open(\"weather_info.txt\",\"r\")\n",
    "weather_data.close()"
   ]
  },
  {
   "cell_type": "code",
   "execution_count": 9,
   "id": "comparable-oakland",
   "metadata": {},
   "outputs": [
    {
     "name": "stdout",
     "output_type": "stream",
     "text": [
      "<_io.TextIOWrapper name='weather_info.txt' mode='r' encoding='UTF-8'>\n"
     ]
    }
   ],
   "source": [
    "print(weather_data) "
   ]
  },
  {
   "cell_type": "code",
   "execution_count": null,
   "id": "boxed-fiber",
   "metadata": {},
   "outputs": [],
   "source": []
  }
 ],
 "metadata": {
  "kernelspec": {
   "display_name": "Python 3",
   "language": "python",
   "name": "python3"
  },
  "language_info": {
   "codemirror_mode": {
    "name": "ipython",
    "version": 3
   },
   "file_extension": ".py",
   "mimetype": "text/x-python",
   "name": "python",
   "nbconvert_exporter": "python",
   "pygments_lexer": "ipython3",
   "version": "3.6.13"
  }
 },
 "nbformat": 4,
 "nbformat_minor": 5
}
